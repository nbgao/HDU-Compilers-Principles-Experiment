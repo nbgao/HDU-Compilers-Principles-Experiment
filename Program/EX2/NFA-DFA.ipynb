{
 "cells": [
  {
   "cell_type": "markdown",
   "metadata": {},
   "source": [
    "# 输入操作"
   ]
  },
  {
   "cell_type": "code",
   "execution_count": 1,
   "metadata": {
    "collapsed": true
   },
   "outputs": [],
   "source": [
    "file_name1 = 'Table1'\n",
    "file_name2 = 'DFA1'"
   ]
  },
  {
   "cell_type": "code",
   "execution_count": 2,
   "metadata": {},
   "outputs": [
    {
     "name": "stdout",
     "output_type": "stream",
     "text": [
      "请输入状态个数: 14\n"
     ]
    },
    {
     "data": {
      "text/plain": [
       "[0, 1, 2, 3, 4, 5, 6, 7, 8, 9, 10, 11, 12, 13]"
      ]
     },
     "execution_count": 2,
     "metadata": {},
     "output_type": "execute_result"
    }
   ],
   "source": [
    "# 输入状态个数\n",
    "N =int(input('请输入状态个数: '))\n",
    "\n",
    "S = []\n",
    "for i in range(N):\n",
    "    S.append(int(i))\n",
    "\n",
    "S"
   ]
  },
  {
   "cell_type": "code",
   "execution_count": 3,
   "metadata": {
    "scrolled": true
   },
   "outputs": [
    {
     "data": {
      "text/plain": [
       "[['0', '~', '1'],\n",
       " ['0', '~', '3'],\n",
       " ['1', '1', '2'],\n",
       " ['2', '~', '3'],\n",
       " ['2', '~', '1'],\n",
       " ['3', '0', '4'],\n",
       " ['4', '1', '5'],\n",
       " ['5', '~', '6'],\n",
       " ['5', '~', '13'],\n",
       " ['6', '~', '7'],\n",
       " ['6', '~', '9'],\n",
       " ['7', '1', '8'],\n",
       " ['8', '~', '12'],\n",
       " ['9', '0', '10'],\n",
       " ['10', '1', '11'],\n",
       " ['11', '~', '12'],\n",
       " ['12', '~', '6'],\n",
       " ['12', '~', '13']]"
      ]
     },
     "execution_count": 3,
     "metadata": {},
     "output_type": "execute_result"
    }
   ],
   "source": [
    "# 输入状态转换表 s c e\n",
    "'''\n",
    "    s: 起始状态\n",
    "    c: 转移字符\n",
    "    e: 到达状态\n",
    "'''\n",
    "# M = int(input())\n",
    "Table = []\n",
    "path = './Data/'+file_name1+'.txt'\n",
    "fin = open(path)\n",
    "lines = fin.readlines()\n",
    "for line in lines:\n",
    "    Table.append([])\n",
    "    Table[len(Table)-1] = line.rstrip().split(' ')\n",
    "\n",
    "Table"
   ]
  },
  {
   "cell_type": "code",
   "execution_count": 4,
   "metadata": {},
   "outputs": [
    {
     "name": "stdout",
     "output_type": "stream",
     "text": [
      "请输入开始状态: 0\n",
      "开始状态: 0\n"
     ]
    }
   ],
   "source": [
    "# 开始状态\n",
    "B = input('请输入开始状态: ')\n",
    "print('开始状态:', B)"
   ]
  },
  {
   "cell_type": "code",
   "execution_count": 5,
   "metadata": {
    "scrolled": true
   },
   "outputs": [
    {
     "name": "stdout",
     "output_type": "stream",
     "text": [
      "请输入接受状态: 13\n",
      "接受状态: ['13']\n"
     ]
    }
   ],
   "source": [
    "# 接受(结束)状态表\n",
    "E = []\n",
    "t = input('请输入接受状态: ')\n",
    "E = t.split(' ')\n",
    "\n",
    "print('接受状态:', E)"
   ]
  },
  {
   "cell_type": "markdown",
   "metadata": {},
   "source": [
    "## 判断为NFA还是DFA"
   ]
  },
  {
   "cell_type": "code",
   "execution_count": 6,
   "metadata": {},
   "outputs": [
    {
     "name": "stdout",
     "output_type": "stream",
     "text": [
      "读入自动机输入文件为 NFA\n"
     ]
    }
   ],
   "source": [
    "def NFA_DFA(Table):\n",
    "    isNFA = False\n",
    "    for i in range(len(Table)):\n",
    "        for j in range(len(Table)):\n",
    "            if(i != j and Table[i][0]==Table[j][0] and Table[i][1]==Table[j][1] and Table[i][1]==Table[j][1] and Table[i][2]!=Table[j][2]):\n",
    "                isNFA = True\n",
    "                break\n",
    "        if(isNFA==True):\n",
    "            break\n",
    "\n",
    "    if(isNFA):\n",
    "        print(\"读入自动机输入文件为 NFA\")\n",
    "    else:\n",
    "        print(\"读入自动机输入我呢件为 DFA\")\n",
    "    \n",
    "    return isNFA\n",
    "        \n",
    "isNFA = NFA_DFA(Table)"
   ]
  },
  {
   "cell_type": "markdown",
   "metadata": {},
   "source": [
    "### ε-closure闭包算法"
   ]
  },
  {
   "cell_type": "code",
   "execution_count": 7,
   "metadata": {
    "collapsed": true
   },
   "outputs": [],
   "source": [
    "# ε-closure闭包算法\n",
    "def Closure(a, T):\n",
    "    b = a\n",
    "    while 1:\n",
    "        s = []\n",
    "        for i in a:\n",
    "            for j in range(len(T)):\n",
    "                if(i==T[j][0] and T[j][1]=='~'):\n",
    "                    s.append(T[j][2])\n",
    "        if(len(s)==0):\n",
    "            break;\n",
    "        else:\n",
    "            for i in s:\n",
    "                b.append(i)\n",
    "                a = s\n",
    "    b = sorted(b)\n",
    "    return b    "
   ]
  },
  {
   "cell_type": "markdown",
   "metadata": {},
   "source": [
    "### Edge"
   ]
  },
  {
   "cell_type": "code",
   "execution_count": 8,
   "metadata": {
    "collapsed": true
   },
   "outputs": [],
   "source": [
    "def Edge(a, c, T):\n",
    "    s = []\n",
    "    for i in a:\n",
    "        for j in range(len(T)):\n",
    "            if(i==T[j][0] and T[j][1]==c):\n",
    "                s.append(T[j][2])\n",
    "    s = sorted(s)\n",
    "    return s"
   ]
  },
  {
   "cell_type": "markdown",
   "metadata": {},
   "source": [
    "# NFA=>DFA"
   ]
  },
  {
   "cell_type": "code",
   "execution_count": 9,
   "metadata": {},
   "outputs": [
    {
     "name": "stdout",
     "output_type": "stream",
     "text": [
      "Edge 0: {4}\n",
      "Closure 0: {4}\n",
      "Edge 1: {2}\n",
      "Closure 1: {1, 2, 3}\n",
      "Edge 0: set()\n",
      "Closure 0: set()\n",
      "Edge 1: {5}\n",
      "Closure 1: {5, 6, 7, 9, 13}\n",
      "Edge 0: {4}\n",
      "Closure 0: {4}\n",
      "Edge 1: {2}\n",
      "Closure 1: {1, 2, 3}\n",
      "Edge 0: {10}\n",
      "Closure 0: {10}\n",
      "Edge 1: {8}\n",
      "Closure 1: {6, 7, 8, 9, 12, 13}\n",
      "Edge 0: set()\n",
      "Closure 0: set()\n",
      "Edge 1: {11}\n",
      "Closure 1: {6, 7, 9, 11, 12, 13}\n",
      "Edge 0: {10}\n",
      "Closure 0: {10}\n",
      "Edge 1: {8}\n",
      "Closure 1: {6, 7, 8, 9, 12, 13}\n",
      "Edge 0: {10}\n",
      "Closure 0: {10}\n",
      "Edge 1: {8}\n",
      "Closure 1: {6, 7, 8, 9, 12, 13}\n",
      "\n",
      "输出NFA构造的子集:\n",
      "0: {0, 1, 3}\n",
      "1: {4}\n",
      "2: {1, 2, 3}\n",
      "3: {5, 6, 7, 9, 13}\n",
      "4: {10}\n",
      "5: {6, 7, 8, 9, 12, 13}\n",
      "6: {6, 7, 9, 11, 12, 13}\n",
      "\n",
      "输出DFA:\n",
      "S\t0\t1\tE\t\n",
      "0\t1\t2\t0\n",
      "1\t[]\t3\t0\n",
      "2\t1\t2\t0\n",
      "3\t4\t5\t1\n",
      "4\t[]\t6\t0\n",
      "5\t4\t5\t1\n",
      "6\t4\t5\t1\n"
     ]
    },
    {
     "data": {
      "text/plain": [
       "[[0, 1, 2, 0],\n",
       " [1, [], 3, 0],\n",
       " [2, 1, 2, 0],\n",
       " [3, 4, 5, 1],\n",
       " [4, [], 6, 0],\n",
       " [5, 4, 5, 1],\n",
       " [6, 4, 5, 1]]"
      ]
     },
     "execution_count": 9,
     "metadata": {},
     "output_type": "execute_result"
    }
   ],
   "source": [
    "C = ['0', '1']\n",
    "\n",
    "S1 = []\n",
    "S2 = []\n",
    "S1.append(Closure(['0'], Table))\n",
    "S2.append(0)\n",
    "\n",
    "while(S2.pop(len(S2)-1)==0):\n",
    "    S2.append(0)\n",
    "    for i in range(len(S1)):\n",
    "        if(S2[i]==0):\n",
    "            S2[i] = 1\n",
    "            for c in C:\n",
    "                s = Edge(S1[i], c, Table)\n",
    "                print(\"Edge %c: %s\" % (c,set(map(int,s))))  ###\n",
    "                #if(s==[]):\n",
    "                    #break\n",
    "                s = Closure(s, Table)\n",
    "                print(\"Closure %c: %s\" % (c,set(map(int,s))))   ###\n",
    "                #if(s==[]):\n",
    "                    #break\n",
    "                    \n",
    "                flag = 0        # flag统计S1中是否有s集合\n",
    "                for m in S1:\n",
    "                    if(s==m):\n",
    "                        flag = 1\n",
    "                        break\n",
    "                        \n",
    "                if(flag==0 and s!=[]):    # 添加新出现的集合\n",
    "                    S1.append(s)\n",
    "                    S2.append(0)\n",
    "                    \n",
    "\n",
    "print('\\n输出NFA构造的子集:')\n",
    "for i in range(len(S1)):\n",
    "    Set = set(map(int,S1[i]))\n",
    "    print(\"%d: %s\" % (i, Set))\n",
    "print()\n",
    "\n",
    "\n",
    "print('输出DFA:')\n",
    "print('S', end = '\\t')\n",
    "for x in ['0','1','E']:\n",
    "    print(x, end = '\\t')\n",
    "print('')\n",
    "\n",
    "# 输出DFA\n",
    "DFA = []\n",
    "for i in range(len(S1)):\n",
    "    DFA.append([]) ###\n",
    "    \n",
    "    DFA[i].append(i) ###\n",
    "    print(i, end = '\\t')\n",
    "    for c in C:\n",
    "        s = Edge(S1[i], c, Table)\n",
    "        if(s==[]):\n",
    "            DFA[i].append(s)\n",
    "            print(s, end='\\t')\n",
    "            continue\n",
    "        s = Closure(s, Table)\n",
    "        if(s==[]):\n",
    "            DFA[i].append(s)\n",
    "            print(s, end='\\t')\n",
    "            continue\n",
    "        for k in range(len(S1)):\n",
    "            if(S1[k]==s):\n",
    "                DFA[i].append(k)\n",
    "                print(k, end='\\t')\n",
    "                break\n",
    "                \n",
    "    end = False\n",
    "    for m in E:\n",
    "        if m in S1[i]:\n",
    "            end = True\n",
    "    \n",
    "    if(end==False):\n",
    "        print(0)\n",
    "    else:\n",
    "        print(1)\n",
    "    DFA[i].append(int(end))\n",
    "    \n",
    "DFA"
   ]
  },
  {
   "cell_type": "markdown",
   "metadata": {},
   "source": [
    "### DFA表输出"
   ]
  },
  {
   "cell_type": "code",
   "execution_count": 10,
   "metadata": {
    "collapsed": true
   },
   "outputs": [],
   "source": [
    "path = './Data/'+file_name2+'.txt'\n",
    "fout = open(path, 'w')\n",
    "for i in DFA:\n",
    "    k = '\\t'.join([str(j) for j in i])\n",
    "    fout.write(k+\"\\n\")\n",
    "fout.close()"
   ]
  },
  {
   "cell_type": "code",
   "execution_count": 11,
   "metadata": {},
   "outputs": [
    {
     "data": {
      "text/plain": [
       "[['0', '1', '2', '0'],\n",
       " ['1', '[]', '3', '0'],\n",
       " ['2', '1', '2', '0'],\n",
       " ['3', '4', '5', '1'],\n",
       " ['4', '[]', '6', '0'],\n",
       " ['5', '4', '5', '1'],\n",
       " ['6', '4', '5', '1']]"
      ]
     },
     "execution_count": 11,
     "metadata": {},
     "output_type": "execute_result"
    }
   ],
   "source": [
    "T_in = []\n",
    "path = './Data/'+file_name2+'.txt'\n",
    "fin = open(path)\n",
    "lines = fin.readlines()\n",
    "for line in lines:\n",
    "    T_in.append([])\n",
    "    T_in[len(T_in)-1] = line.rstrip().split('\\t')\n",
    "\n",
    "fin.close()\n",
    "T_in"
   ]
  },
  {
   "cell_type": "markdown",
   "metadata": {},
   "source": [
    "# DFA最小化"
   ]
  },
  {
   "cell_type": "markdown",
   "metadata": {},
   "source": [
    "### 初始分割子集"
   ]
  },
  {
   "cell_type": "code",
   "execution_count": 12,
   "metadata": {
    "scrolled": false
   },
   "outputs": [],
   "source": [
    "def InitSet(T_in):\n",
    "    SET = [[],[]]\n",
    "    for i in range(len(T_in)):\n",
    "        if(int(T_in[i][3]) == 0):\n",
    "            SET[0].append(int(T_in[i][0]))\n",
    "        else:\n",
    "            SET[1].append(int(T_in[i][0]))\n",
    "    \n",
    "    return SET"
   ]
  },
  {
   "cell_type": "markdown",
   "metadata": {},
   "source": [
    "### 判断元素x是否在集合Set中"
   ]
  },
  {
   "cell_type": "code",
   "execution_count": 13,
   "metadata": {
    "collapsed": true
   },
   "outputs": [],
   "source": [
    "def Find(Set, x):\n",
    "    try:\n",
    "        if(x != [] or x != ''):\n",
    "            for i in range(len(Set)):\n",
    "                 if(Set.index(x) != -1):\n",
    "                    return True\n",
    "        else:\n",
    "            return False\n",
    "    except:\n",
    "        return False"
   ]
  },
  {
   "cell_type": "markdown",
   "metadata": {},
   "source": [
    "### 判断是否等价"
   ]
  },
  {
   "cell_type": "code",
   "execution_count": 14,
   "metadata": {
    "collapsed": true
   },
   "outputs": [],
   "source": [
    "def Equal(A, B):\n",
    "    flag = True\n",
    "    for s in SET:\n",
    "        if(T_in[A][1] != '[]' and T_in[B][1] != '[]'):\n",
    "            if(Find(s, int(T_in[A][1])) != Find(s, int(T_in[B][1]))):\n",
    "                flag = False\n",
    "        if(T_in[A][2] != '[]' and T_in[B][2] != '[]'):\n",
    "            if(Find(s, int(T_in[A][2])) != Find(s, int(T_in[B][2]))):\n",
    "                flag = False\n",
    "\n",
    "    return flag"
   ]
  },
  {
   "cell_type": "markdown",
   "metadata": {},
   "source": [
    "## 求异法分割子集"
   ]
  },
  {
   "cell_type": "code",
   "execution_count": 15,
   "metadata": {
    "collapsed": true
   },
   "outputs": [],
   "source": [
    "def Divide(SET):\n",
    "    SET_new = []\n",
    "    Finished = False\n",
    "    #for k in range(len(SET)):\n",
    "    k = 0\n",
    "    while(k < len(SET)):\n",
    "        set_num = len(SET[k])\n",
    "        if(set_num==1):    # 1个元素保留\n",
    "            pass\n",
    "        elif(set_num==2):    # 2个元素\n",
    "            if(not Equal(SET[k][0], SET[k][1])):\n",
    "                SET_new.append(SET[k][1])\n",
    "                SET[k].remove(SET[k][1])\n",
    "                break\n",
    "        elif(set_num>=3):    # 3个以上元素\n",
    "            for j in range(set_num-2):    # 长度为3的窗口向右滑动\n",
    "                if(Equal(SET[k][j+1], SET[k][j+0])):\n",
    "                    if(not Equal(SET[k][j+2], SET[k][j+1])):    # 第3个为异\n",
    "                        SET_new.append(SET[k][j+2])\n",
    "                        SET[k].remove(SET[k][j+2])\n",
    "                        k -= 1\n",
    "                        break\n",
    "                    else:\n",
    "                        continue\n",
    "                else:\n",
    "                    if(Equal(SET[k][j+2], SET[k][j+1])):    # 第1个为异\n",
    "                        SET_new.append(SET[k][j+0])\n",
    "                        SET[k].remove(SET[k][j+0])\n",
    "                    else:\n",
    "                        if(Equal(SET[k][j+2], SET[k][j+0])):    # 第2个为异\n",
    "                            SET_new.append(SET[k][j+1])\n",
    "                            SET[k].remove(SET[k][j+1])\n",
    "                        else:\n",
    "                            SET_new.append(SET[k][j+1])\n",
    "                            SET[k].remove(SET[k][j+1])\n",
    "                            SET_new.append(SET[k][j+2])\n",
    "                            SET[k].remove(SET[k][j+2])\n",
    "                    k -= 1\n",
    "                    break\n",
    "        k += 1\n",
    "\n",
    "    if(SET_new != []):\n",
    "        SET.append(SET_new)\n",
    "    else:\n",
    "        Finished = True\n",
    "    \n",
    "    return SET, Finished"
   ]
  },
  {
   "cell_type": "code",
   "execution_count": 16,
   "metadata": {
    "scrolled": true
   },
   "outputs": [
    {
     "name": "stdout",
     "output_type": "stream",
     "text": [
      "初始化分割子集: [[0, 1, 2, 4], [3, 5, 6]]\n",
      "[[0, 1, 2, 4], [3, 5, 6]]\n",
      "[[0, 2], [3, 5, 6], [1, 4]]\n",
      "最小化分割后集合: [[0, 2], [3, 5, 6], [1, 4]]\n"
     ]
    }
   ],
   "source": [
    "SET = InitSet(T_in)\n",
    "print('初始化分割子集:', SET)\n",
    "\n",
    "while(1):\n",
    "    print(SET)\n",
    "    SET, Finished = Divide(SET)\n",
    "    if(Finished):    # 无新集合(不可再分割)时，结束分割\n",
    "        break\n",
    "        \n",
    "print('最小化分割后集合:', SET)"
   ]
  },
  {
   "cell_type": "markdown",
   "metadata": {},
   "source": [
    "### 查找集合中的索引"
   ]
  },
  {
   "cell_type": "code",
   "execution_count": 17,
   "metadata": {
    "collapsed": true
   },
   "outputs": [],
   "source": [
    "def IndexOfSet(SET, x):\n",
    "    for i in range(len(SET)):\n",
    "        if(Find(SET[i], x)):\n",
    "            return i\n",
    "    return -1"
   ]
  },
  {
   "cell_type": "markdown",
   "metadata": {},
   "source": [
    "### 生成DFA表"
   ]
  },
  {
   "cell_type": "code",
   "execution_count": 18,
   "metadata": {},
   "outputs": [
    {
     "data": {
      "text/plain": [
       "[[0, 2, 0, 0], [1, 2, 1, 1], [2, [], 1, 0]]"
      ]
     },
     "execution_count": 18,
     "metadata": {},
     "output_type": "execute_result"
    }
   ],
   "source": [
    "DFA2 = []\n",
    "for i in range(len(SET)):\n",
    "    L = []\n",
    "    L.append(i)\n",
    "    \n",
    "    x = SET[i][0]    # 原始元素\n",
    "    if(T_in[x][1]=='[]'):\n",
    "        L.append([])\n",
    "    else:\n",
    "        y = int(T_in[x][1])    # 输入为0，跳转到的下一状态\n",
    "        a = IndexOfSet(SET, y)    # 该状态在新集合中的下标\n",
    "        L.append(a)\n",
    "    \n",
    "    if(T_in[x][2]=='[]'):\n",
    "        L.append([])\n",
    "    else:\n",
    "        z = int(T_in[x][2])    # 输入为1，跳转到的下一状态\n",
    "        b = IndexOfSet(SET, z)    # 该状态在新集合中的下标\n",
    "        L.append(b)\n",
    "    \n",
    "    if(int(T_in[x][3]) == 1):    # 记录该状态是否为接受(结束)状态\n",
    "        L.append(1)\n",
    "    else:\n",
    "        L.append(0)\n",
    "    \n",
    "    DFA2.append(L)\n",
    "    \n",
    "DFA2"
   ]
  },
  {
   "cell_type": "code",
   "execution_count": 19,
   "metadata": {},
   "outputs": [
    {
     "name": "stdout",
     "output_type": "stream",
     "text": [
      "最小化后DFA表\n",
      "S\t0\t1\tE\n",
      "0\t2\t0\t0\n",
      "1\t2\t1\t1\n",
      "2\t[]\t1\t0\n"
     ]
    }
   ],
   "source": [
    "print('最小化后DFA表')\n",
    "print('S\\t0\\t1\\tE')\n",
    "for i in range(len(DFA2)):\n",
    "    print('%s\\t%s\\t%s\\t%s' %(i, DFA2[i][1], DFA2[i][2], DFA2[i][3]))"
   ]
  },
  {
   "cell_type": "markdown",
   "metadata": {},
   "source": [
    "### 输出最小化DFA"
   ]
  },
  {
   "cell_type": "code",
   "execution_count": 20,
   "metadata": {
    "collapsed": true
   },
   "outputs": [],
   "source": [
    "path = './Data/'+file_name2+'_min.txt'\n",
    "fout = open(path, 'w')\n",
    "for i in DFA2:\n",
    "    k = '\\t'.join([str(j) for j in i])\n",
    "    fout.write(k+\"\\n\")\n",
    "fout.close()"
   ]
  },
  {
   "cell_type": "code",
   "execution_count": 21,
   "metadata": {},
   "outputs": [
    {
     "data": {
      "text/plain": [
       "[['0', '2', '0', '0'], ['1', '2', '1', '1'], ['2', '[]', '1', '0']]"
      ]
     },
     "execution_count": 21,
     "metadata": {},
     "output_type": "execute_result"
    }
   ],
   "source": [
    "T_out = []\n",
    "path = './Data/'+file_name2+'_min.txt'\n",
    "fin = open(path)\n",
    "lines = fin.readlines()\n",
    "for line in lines:\n",
    "    T_out.append([])\n",
    "    T_out[len(T_out)-1] = line.rstrip().split('\\t')\n",
    "\n",
    "T_out"
   ]
  },
  {
   "cell_type": "markdown",
   "metadata": {},
   "source": [
    "### 测试符号串"
   ]
  },
  {
   "cell_type": "code",
   "execution_count": 22,
   "metadata": {
    "collapsed": true
   },
   "outputs": [],
   "source": [
    "def Test(s, DFA):\n",
    "    n = len(s)\n",
    "    flag = False\n",
    "    \n",
    "    state = IndexOfSet(SET, int(B))    # 初始化当前状态为开始状态\n",
    "    print('状态转移序列:', end='  ')\n",
    "    print(state, end='    ')\n",
    "    index = 0\n",
    "    while(index < n):\n",
    "        x = s[index]\n",
    "        if(str(x) not in C):\n",
    "            print('ERROR')\n",
    "            print('Unsuccessfully !')\n",
    "            break\n",
    "        else:\n",
    "            if(x==C[0]):\n",
    "                y = DFA[state][1]\n",
    "                if(y != []):\n",
    "                    state = y\n",
    "                else:\n",
    "                    print('ERROR')\n",
    "                    print('Fail !')\n",
    "                    break\n",
    "            elif(x==C[1]):\n",
    "                y = DFA[state][2]\n",
    "                if(y != []):\n",
    "                    state = y\n",
    "                else:\n",
    "                    print('ERROR')\n",
    "                    print('Fail !')\n",
    "                    break\n",
    "            else:\n",
    "                print('ERROR')\n",
    "                print('Fail !')\n",
    "                break\n",
    "            \n",
    "            print(state, end='    ')\n",
    "            if(index == n-1):\n",
    "                if(DFA[state][3] == 1):\n",
    "                    print('END')\n",
    "                    flag = True\n",
    "                    print('Successfully !')\n",
    "                    break\n",
    "                else:\n",
    "                    print('NOT END')\n",
    "        \n",
    "        index += 1\n",
    "    \n",
    "    #return flag"
   ]
  },
  {
   "cell_type": "code",
   "execution_count": 24,
   "metadata": {},
   "outputs": [
    {
     "name": "stdout",
     "output_type": "stream",
     "text": [
      "输入符号串: 110101011\n",
      "状态转移序列:  0    0    0    2    1    2    1    2    1    1    END\n",
      "Successfully !\n"
     ]
    }
   ],
   "source": [
    "Input_str = input('输入符号串: ')\n",
    "Test(Input_str, DFA2)"
   ]
  },
  {
   "cell_type": "markdown",
   "metadata": {},
   "source": [
    "#### NFA1测试符号串"
   ]
  },
  {
   "cell_type": "code",
   "execution_count": 25,
   "metadata": {
    "scrolled": true
   },
   "outputs": [
    {
     "name": "stdout",
     "output_type": "stream",
     "text": [
      "输入串: 011\n",
      "状态转移序列:  0    2    1    1    END\n",
      "Successfully !\n",
      "\n",
      "输入串: 0101\n",
      "状态转移序列:  0    2    1    2    1    END\n",
      "Successfully !\n",
      "\n",
      "输入串: 1101011\n",
      "状态转移序列:  0    0    0    2    1    2    1    1    END\n",
      "Successfully !\n",
      "\n",
      "输入串: 11100\n",
      "状态转移序列:  0    0    0    0    2    ERROR\n",
      "Fail !\n"
     ]
    }
   ],
   "source": [
    "String1_1 = '011'\n",
    "print('输入串:', String1_1)\n",
    "Test(String1_1, DFA2)\n",
    "\n",
    "String1_2 = '0101'\n",
    "print('\\n输入串:', String1_2)\n",
    "Test(String1_2, DFA2)\n",
    "\n",
    "String1_3 = '1101011'\n",
    "print('\\n输入串:', String1_3)\n",
    "Test(String1_3, DFA2)\n",
    "\n",
    "String1_4 = '11100'\n",
    "print('\\n输入串:', String1_4)\n",
    "Test(String1_4, DFA2)"
   ]
  },
  {
   "cell_type": "markdown",
   "metadata": {},
   "source": [
    "#### NFA2测试符号串"
   ]
  },
  {
   "cell_type": "code",
   "execution_count": 26,
   "metadata": {
    "scrolled": true
   },
   "outputs": [
    {
     "name": "stdout",
     "output_type": "stream",
     "text": [
      "输入串: 0011\n",
      "状态转移序列:  0    2    ERROR\n",
      "Fail !\n",
      "\n",
      "输入串: 01101011\n",
      "状态转移序列:  0    2    1    1    2    1    2    1    1    END\n",
      "Successfully !\n",
      "\n",
      "输入串: 1101011\n",
      "状态转移序列:  0    0    0    2    1    2    1    1    END\n",
      "Successfully !\n",
      "\n",
      "输入串: 11100\n",
      "状态转移序列:  0    0    0    0    2    ERROR\n",
      "Fail !\n"
     ]
    }
   ],
   "source": [
    "String2_1 = '0011'\n",
    "print('输入串:', String2_1)\n",
    "Test(String2_1, DFA2)\n",
    "\n",
    "String2_2 = '01101011'\n",
    "print('\\n输入串:', String2_2)\n",
    "Test(String2_2, DFA2)\n",
    "\n",
    "String2_3 = '1101011'\n",
    "print('\\n输入串:', String2_3)\n",
    "Test(String2_3, DFA2)\n",
    "\n",
    "String2_4 = '11100'\n",
    "print('\\n输入串:', String2_4)\n",
    "Test(String2_4, DFA2)"
   ]
  },
  {
   "cell_type": "markdown",
   "metadata": {},
   "source": [
    "#### NFA3测试符号串"
   ]
  },
  {
   "cell_type": "code",
   "execution_count": 27,
   "metadata": {},
   "outputs": [
    {
     "name": "stdout",
     "output_type": "stream",
     "text": [
      "输入串: 010\n",
      "状态转移序列:  0    2    1    2    NOT END\n",
      "\n",
      "输入串: 010010\n",
      "状态转移序列:  0    2    1    2    ERROR\n",
      "Fail !\n",
      "\n",
      "输入串: 10010100\n",
      "状态转移序列:  0    0    2    ERROR\n",
      "Fail !\n",
      "\n",
      "输入串: 1001011\n",
      "状态转移序列:  0    0    2    ERROR\n",
      "Fail !\n"
     ]
    }
   ],
   "source": [
    "String3_1 = '010'\n",
    "print('输入串:', String3_1)\n",
    "Test(String3_1, DFA2)\n",
    "\n",
    "String3_2 = '010010'\n",
    "print('\\n输入串:', String3_2)\n",
    "Test(String3_2, DFA2)\n",
    "\n",
    "String3_3 = '10010100'\n",
    "print('\\n输入串:', String3_3)\n",
    "Test(String3_3, DFA2)\n",
    "\n",
    "String3_4 = '1001011'\n",
    "print('\\n输入串:', String3_4)\n",
    "Test(String3_4, DFA2)"
   ]
  }
 ],
 "metadata": {
  "kernelspec": {
   "display_name": "Python 3",
   "language": "python",
   "name": "python3"
  },
  "language_info": {
   "codemirror_mode": {
    "name": "ipython",
    "version": 3
   },
   "file_extension": ".py",
   "mimetype": "text/x-python",
   "name": "python",
   "nbconvert_exporter": "python",
   "pygments_lexer": "ipython3",
   "version": "3.6.1"
  }
 },
 "nbformat": 4,
 "nbformat_minor": 2
}

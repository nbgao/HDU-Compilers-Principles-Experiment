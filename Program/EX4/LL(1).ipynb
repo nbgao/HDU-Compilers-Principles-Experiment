{
 "cells": [
  {
   "cell_type": "markdown",
   "metadata": {},
   "source": [
    "## 输入字符串"
   ]
  },
  {
   "cell_type": "code",
   "execution_count": 31,
   "metadata": {
    "collapsed": true
   },
   "outputs": [],
   "source": [
    "String = [[] for row in range(6)]\n",
    "String[0] = ['i+i*i', '(i+i)*i+i', '(i+i)*i', 'i-i', 'i**i+i']\n",
    "String[1] = ['a', 'ddb', 'efao', 'ba', 'o']\n",
    "String[2] = ['a', '(a)', '(a,a)', 'a,a', '(a)a']\n",
    "String[3] = ['a', 'aade', 'aadbbe', 'ab', '']\n",
    "String[4] = ['i', 'ii+', 'ii-', 'i/i', '(i+i)']\n",
    "String[5] = ['ix', 'ix,x', 'fx', 'i', 'f']"
   ]
  },
  {
   "cell_type": "markdown",
   "metadata": {},
   "source": [
    "## 主程序"
   ]
  },
  {
   "cell_type": "code",
   "execution_count": 34,
   "metadata": {
    "scrolled": false
   },
   "outputs": [
    {
     "name": "stdout",
     "output_type": "stream",
     "text": [
      "请输入选择的文法规则序号: 0\n",
      "\n",
      "文法规则\n",
      "['E::E+T|T', 'T::T*F|F', 'F::(E)|i']\n",
      "\n",
      "消除左递归后文法\n",
      "[\"E::TE'\", \"E'::+TE'|ε\", \"T::FT'\", \"T'::*FT'|ε\", 'F::(E)|i']\n",
      "\n",
      "提取左公因子后文法\n",
      "[\"E::TE'\", \"E'::+TE'|ε\", \"T::FT'\", \"T'::*FT'|ε\", 'F::(E)|i']\n",
      "\n",
      "开始符号: E\n",
      "\n",
      "非终结符\n",
      "['E', \"E'\", 'T', \"T'\", 'F']\n",
      "\n",
      "终结符\n",
      "['+', 'ε', '*', '(', ')', 'i']\n",
      "\n",
      "FIRST集\n",
      "{'E': ['(', 'i'],\n",
      " \"E'\": ['+', 'ε'],\n",
      " 'F': ['(', 'i'],\n",
      " 'T': ['(', 'i'],\n",
      " \"T'\": ['*', 'ε']}\n",
      "\n",
      "FOLLOW集\n",
      "{'E': [')', '$'],\n",
      " \"E'\": [')', '$'],\n",
      " 'F': [')', '$', '+', '*'],\n",
      " 'T': [')', '$', '+'],\n",
      " \"T'\": [')', '$', '+']}\n",
      "\n",
      "SELECT集\n",
      "{\"E'::+TE'\": '+',\n",
      " \"E'::ε\": 'ε',\n",
      " \"E::TE'\": ['(', 'i'],\n",
      " 'F::(E)': '(',\n",
      " 'F::i': 'i',\n",
      " \"T'::*FT'\": '*',\n",
      " \"T'::ε\": 'ε',\n",
      " \"T::FT'\": ['(', 'i']}\n",
      "\n",
      "判断是否为LL(1)文法:\n",
      "是LL(1)文法\n",
      "\n",
      "LL(1)预测分析表\n",
      "\t\t+\t\t*\t\t(\t\t)\t\ti\t\t$\t\t\n",
      "E\t\t\t\t\t\tE::TE'\t\t\t\tE::TE'\t\t\t\t\n",
      "E'\t\tE'::+TE'\t\t\t\t\tE'::ε\t\t\t\tE'::ε\t\t\n",
      "T\t\t\t\t\t\tT::FT'\t\t\t\tT::FT'\t\t\t\t\n",
      "T'\t\tT'::ε\t\tT'::*FT'\t\t\tT'::ε\t\t\t\tT'::ε\t\t\n",
      "F\t\t\t\t\t\tF::(E)\t\t\t\tF::i\t\t\t\t\n",
      "\n",
      "\n",
      "字符串分析判断\n",
      "判断字符串 i+i*i\n",
      "栈                           输入串           输出产生式\n",
      "$E                            i+i*i$          E::TE'\n",
      "$E'T                          i+i*i$          T::FT'\n",
      "$E'T'F                        i+i*i$          F::i\n",
      "$E'T'i                        i+i*i$          \n",
      "$E'T'                          +i*i$          T'::ε\n",
      "$E'                            +i*i$          E'::+TE'\n",
      "$E'T+                          +i*i$          \n",
      "$E'T                            i*i$          T::FT'\n",
      "$E'T'F                          i*i$          F::i\n",
      "$E'T'i                          i*i$          \n",
      "$E'T'                            *i$          T'::*FT'\n",
      "$E'T'F*                          *i$          \n",
      "$E'T'F                            i$          F::i\n",
      "$E'T'i                            i$          \n",
      "$E'T'                              $          T'::ε\n",
      "$E'                                $          E'::ε\n",
      "$                                  $          \n",
      "输入串i+i*i符合文法\n",
      "\n",
      "判断字符串 (i+i)*i+i\n",
      "栈                           输入串           输出产生式\n",
      "$E                        (i+i)*i+i$          E::TE'\n",
      "$E'T                      (i+i)*i+i$          T::FT'\n",
      "$E'T'F                    (i+i)*i+i$          F::(E)\n",
      "$E'T')E(                  (i+i)*i+i$          \n",
      "$E'T')E                    i+i)*i+i$          E::TE'\n",
      "$E'T')E'T                  i+i)*i+i$          T::FT'\n",
      "$E'T')E'T'F                i+i)*i+i$          F::i\n",
      "$E'T')E'T'i                i+i)*i+i$          \n",
      "$E'T')E'T'                  +i)*i+i$          T'::ε\n",
      "$E'T')E'                    +i)*i+i$          E'::+TE'\n",
      "$E'T')E'T+                  +i)*i+i$          \n",
      "$E'T')E'T                    i)*i+i$          T::FT'\n",
      "$E'T')E'T'F                  i)*i+i$          F::i\n",
      "$E'T')E'T'i                  i)*i+i$          \n",
      "$E'T')E'T'                    )*i+i$          T'::ε\n",
      "$E'T')E'                      )*i+i$          E'::ε\n",
      "$E'T')                        )*i+i$          \n",
      "$E'T'                          *i+i$          T'::*FT'\n",
      "$E'T'F*                        *i+i$          \n",
      "$E'T'F                          i+i$          F::i\n",
      "$E'T'i                          i+i$          \n",
      "$E'T'                            +i$          T'::ε\n",
      "$E'                              +i$          E'::+TE'\n",
      "$E'T+                            +i$          \n",
      "$E'T                              i$          T::FT'\n",
      "$E'T'F                            i$          F::i\n",
      "$E'T'i                            i$          \n",
      "$E'T'                              $          T'::ε\n",
      "$E'                                $          E'::ε\n",
      "$                                  $          \n",
      "输入串(i+i)*i+i符合文法\n",
      "\n",
      "判断字符串 (i+i)*i\n",
      "栈                           输入串           输出产生式\n",
      "$E                          (i+i)*i$          E::TE'\n",
      "$E'T                        (i+i)*i$          T::FT'\n",
      "$E'T'F                      (i+i)*i$          F::(E)\n",
      "$E'T')E(                    (i+i)*i$          \n",
      "$E'T')E                      i+i)*i$          E::TE'\n",
      "$E'T')E'T                    i+i)*i$          T::FT'\n",
      "$E'T')E'T'F                  i+i)*i$          F::i\n",
      "$E'T')E'T'i                  i+i)*i$          \n",
      "$E'T')E'T'                    +i)*i$          T'::ε\n",
      "$E'T')E'                      +i)*i$          E'::+TE'\n",
      "$E'T')E'T+                    +i)*i$          \n",
      "$E'T')E'T                      i)*i$          T::FT'\n",
      "$E'T')E'T'F                    i)*i$          F::i\n",
      "$E'T')E'T'i                    i)*i$          \n",
      "$E'T')E'T'                      )*i$          T'::ε\n",
      "$E'T')E'                        )*i$          E'::ε\n",
      "$E'T')                          )*i$          \n",
      "$E'T'                            *i$          T'::*FT'\n",
      "$E'T'F*                          *i$          \n",
      "$E'T'F                            i$          F::i\n",
      "$E'T'i                            i$          \n",
      "$E'T'                              $          T'::ε\n",
      "$E'                                $          E'::ε\n",
      "$                                  $          \n",
      "输入串(i+i)*i符合文法\n",
      "\n",
      "判断字符串 i-i\n",
      "栈                           输入串           输出产生式\n",
      "$E                              i-i$          E::TE'\n",
      "$E'T                            i-i$          T::FT'\n",
      "$E'T'F                          i-i$          F::i\n",
      "$E'T'i                          i-i$          \n",
      "$E'T'                            -i$          ERROR\n",
      "输入串i-i不符合文法\n",
      "\n",
      "判断字符串 i**i+i\n",
      "栈                           输入串           输出产生式\n",
      "$E                           i**i+i$          E::TE'\n",
      "$E'T                         i**i+i$          T::FT'\n",
      "$E'T'F                       i**i+i$          F::i\n",
      "$E'T'i                       i**i+i$          \n",
      "$E'T'                         **i+i$          T'::*FT'\n",
      "$E'T'F*                       **i+i$          \n",
      "$E'T'F                         *i+i$          ERROR\n",
      "ERROR\n",
      "输入串i**i+i不符合文法\n",
      "\n"
     ]
    }
   ],
   "source": [
    "if __name__ == \"__main__\":\n",
    "    import pprint\n",
    "    \n",
    "    Grammers = [[] for g in range(6)]\n",
    "    Grammers[0] = ['E::E+T|T', 'T::T*F|F', 'F::(E)|i']\n",
    "    Grammers[1] = ['S::MH|a', 'H::LSo|ε', 'K::dML|ε', 'L::eHf', 'M::K|bLM']\n",
    "    Grammers[2] = ['S::a|ε|(T)', 'T::T,S|S']\n",
    "    Grammers[3] = ['A::aABe|a', 'B::Bb|d'] ## 需要提取左公因子\n",
    "    Grammers[4] = ['E::ET+|ET-|T', 'T::TF*|TF/|F', 'F::(E)|i'] ## 消除左递归+ 提取左公因子\n",
    "    Grammers[5] = ['A::BC', 'B::i|f', 'C::x,C|x']\n",
    "    \n",
    "    grammer_num = int(input('请输入选择的文法规则序号: '))\n",
    "    \n",
    "    Grammer = Grammers[grammer_num]\n",
    "    print('\\n文法规则')\n",
    "    print(Grammer)\n",
    "    \n",
    "    Grammer_new = EliminateLeftRecursion(Grammer)\n",
    "    print('\\n消除左递归后文法')\n",
    "    print(Grammer_new)\n",
    "    \n",
    "    Grammer_new = ExtractLeftCommonFactor(Grammer_new)\n",
    "    print('\\n提取左公因子后文法')\n",
    "    print(Grammer_new)\n",
    "    \n",
    "    start = Grammer[0][0]\n",
    "    print('\\n开始符号:', start)\n",
    "    \n",
    "    VN = getVN(Grammer_new)\n",
    "    print('\\n非终结符')\n",
    "    print(VN)\n",
    "    \n",
    "    VT = getVT(Grammer_new)\n",
    "    print('\\n终结符')\n",
    "    print(VT)\n",
    "    \n",
    "    FIRST = getFIRST(Grammer_new)\n",
    "    print('\\nFIRST集')\n",
    "    pprint.pprint(FIRST)\n",
    "    \n",
    "    FOLLOW = getFOLLOW(Grammer_new)\n",
    "    print('\\nFOLLOW集')\n",
    "    pprint.pprint(FOLLOW)\n",
    "    \n",
    "    SELECT = getSELECT(Grammer_new)\n",
    "    print('\\nSELECT集')\n",
    "    pprint.pprint(SELECT)\n",
    "    \n",
    "    print('\\n判断是否为LL(1)文法:')\n",
    "    LL1_Judge(Grammer_new)\n",
    "    \n",
    "    PredictAnalyzeTable = AnalyzeTable(Grammer_new, FIRST, FOLLOW)\n",
    "    print('\\nLL(1)预测分析表')\n",
    "    PrintAnalyzeTable(PredictAnalyzeTable)\n",
    "    \n",
    "    print('\\n字符串分析判断')\n",
    "    for string in String[grammer_num]:\n",
    "         AnalyzeJudge(start, string)\n",
    "    "
   ]
  },
  {
   "cell_type": "markdown",
   "metadata": {},
   "source": [
    "## 消除左递归"
   ]
  },
  {
   "cell_type": "code",
   "execution_count": 35,
   "metadata": {
    "collapsed": true
   },
   "outputs": [],
   "source": [
    "def EliminateLeftRecursion(Grammer):\n",
    "    Grammer_new = []\n",
    "    for rule in Grammer:\n",
    "        t = rule.find('::')\n",
    "        rightIndex = t+2\n",
    "        leftSymbol = rule[:t]\n",
    "        rightSymbol = rule[rightIndex:]\n",
    "\n",
    "        rightFirstSymbol = rule[rightIndex]\n",
    "        #print(leftSymbol, rightSymbol)\n",
    "        if leftSymbol == rightFirstSymbol:  # 左表达式与右表达式第一个字符相同\n",
    "                result1 = [symbol for symbol in rule[rightIndex:].split('|') if leftSymbol not in symbol]\n",
    "                result2 = [symbol for symbol in rule[rightIndex:].split('|') if leftSymbol in symbol]\n",
    "                \n",
    "                leftSymbolNew = leftSymbol + \"'\"\n",
    "                result1 = [symbol + leftSymbolNew for symbol in result1]\n",
    "                rightExpression1 = '|'.join(result1)\n",
    "                expression1 = rule[0:rightIndex] + rightExpression1\n",
    "\n",
    "                result2 = [symbol.replace(leftSymbol, \"\") + leftSymbolNew for symbol in result2]           \n",
    "                result2.append('ε')\n",
    "                rightExpression2 = '|'.join(result2)\n",
    "                expression2 = leftSymbolNew + rule[1:rightIndex] + rightExpression2\n",
    "\n",
    "\n",
    "                Grammer_new += [expression1]\n",
    "                Grammer_new += [expression2]\n",
    "        else:\n",
    "            Grammer_new += [rule]\n",
    "    \n",
    "    return Grammer_new"
   ]
  },
  {
   "cell_type": "code",
   "execution_count": 36,
   "metadata": {},
   "outputs": [
    {
     "data": {
      "text/plain": [
       "[\"E::TE'\", \"E'::+TE'|ε\", \"T::FT'\", \"T'::*FT'|ε\", 'F::(E)|i']"
      ]
     },
     "execution_count": 36,
     "metadata": {},
     "output_type": "execute_result"
    }
   ],
   "source": [
    "Grammer_new = EliminateLeftRecursion(Grammer)\n",
    "Grammer_new"
   ]
  },
  {
   "cell_type": "markdown",
   "metadata": {},
   "source": [
    "### 求最长公共前缀"
   ]
  },
  {
   "cell_type": "code",
   "execution_count": 37,
   "metadata": {
    "collapsed": true
   },
   "outputs": [],
   "source": [
    "def LongestCommonPrefix(s1, s2):\n",
    "    prefix = ''\n",
    "    l1, l2 = len(s1), len(s2)\n",
    "    for i in range(min(l1,l2)):\n",
    "        if s1[i]==s2[i]:\n",
    "            prefix += s1[i];\n",
    "        else:\n",
    "            break\n",
    "    return prefix"
   ]
  },
  {
   "cell_type": "markdown",
   "metadata": {},
   "source": [
    "## 提取左公因子"
   ]
  },
  {
   "cell_type": "code",
   "execution_count": 38,
   "metadata": {
    "collapsed": true
   },
   "outputs": [],
   "source": [
    "def ExtractLeftCommonFactor(Grammer):\n",
    "    Grammer_new = []\n",
    "    for rule in Grammer:\n",
    "        t = rule.find('::')\n",
    "        rightIndex = t+2\n",
    "        leftSymbol = rule[:t]\n",
    "        rightSymbol = rule[rightIndex:]\n",
    "        rightExp = [symbol for symbol in rule[rightIndex:].split('|')]\n",
    "        prefix = ''\n",
    "        for i in range(len(rightExp)-1):\n",
    "            for j in range(i+1,len(rightExp)):\n",
    "                Exp1, Exp2 = rightExp[i], rightExp[j]\n",
    "                prefix = LongestCommonPrefix(Exp1, Exp2)\n",
    "                if prefix != '':  # 最长公共前缀非空\n",
    "                    break\n",
    "            if prefix != '':\n",
    "                break\n",
    "\n",
    "        postfix = []\n",
    "        if prefix != '':\n",
    "            index = len(prefix)\n",
    "            tail = []\n",
    "            #print('rightExp', rightExp)\n",
    "            for exp in rightExp:\n",
    "                if prefix == exp[:index]:  # 表达式中存在前缀\n",
    "                    if exp[index:] == '':  # 前缀后面无字符\n",
    "                        postfix.append('ε')\n",
    "                    else:\n",
    "                        postfix.append(exp[index:])\n",
    "                else:\n",
    "                    tail.append(exp)\n",
    "            #print('postfix', postfix)\n",
    "            #print('tail', tail)\n",
    "            # 产生提取左公因子的第1条新语法规则\n",
    "            leftSymbolNew = leftSymbol + \"'\"\n",
    "            rightExp_new1 = prefix + leftSymbolNew\n",
    "            if tail != []:  # 若尾部表达式不为空，则在新表达式后加上尾部表达式\n",
    "                rightExp_new2 = ('|').join(tail)\n",
    "                rightExp_new2 = '|' + rightExp_new2\n",
    "            else:\n",
    "                rightExp_new2 = ''\n",
    "            expression1 = leftSymbol +'::'+ rightExp_new1 + rightExp_new2\n",
    "            Grammer_new += [expression1]\n",
    "            #print('expression1', expression1)\n",
    "\n",
    "            # 产生提取左公因子的第2条新语法规则\n",
    "            postfix_new = [leftSymbolNew + symbol for symbol in postfix]\n",
    "            rightExp_new = '|'.join(postfix)\n",
    "            rightExp_new\n",
    "            expression2 = leftSymbolNew + '::' + rightExp_new\n",
    "            Grammer_new += [expression2]\n",
    "            #print('expression2', expression2)\n",
    "        else:\n",
    "            Grammer_new += [rule]\n",
    "    return Grammer_new"
   ]
  },
  {
   "cell_type": "code",
   "execution_count": 39,
   "metadata": {},
   "outputs": [
    {
     "data": {
      "text/plain": [
       "[\"E::TE'\", \"E'::+TE'|ε\", \"T::FT'\", \"T'::*FT'|ε\", 'F::(E)|i']"
      ]
     },
     "execution_count": 39,
     "metadata": {},
     "output_type": "execute_result"
    }
   ],
   "source": [
    "Grammer_new = ExtractLeftCommonFactor(Grammer_new)\n",
    "Grammer_new"
   ]
  },
  {
   "cell_type": "markdown",
   "metadata": {},
   "source": [
    "## 获取非终结符"
   ]
  },
  {
   "cell_type": "code",
   "execution_count": 40,
   "metadata": {
    "collapsed": true
   },
   "outputs": [],
   "source": [
    "def getVN(Grammer):\n",
    "    VN = []\n",
    "    for g in Grammer:\n",
    "        t = g.find('::')\n",
    "        ch = g[:t]\n",
    "        if ch not in VN:\n",
    "            VN.append(ch)\n",
    "    return VN"
   ]
  },
  {
   "cell_type": "code",
   "execution_count": 41,
   "metadata": {},
   "outputs": [
    {
     "name": "stdout",
     "output_type": "stream",
     "text": [
      "['E', \"E'\", 'T', \"T'\", 'F']\n"
     ]
    }
   ],
   "source": [
    "VN = getVN(Grammer_new)\n",
    "print(VN)"
   ]
  },
  {
   "cell_type": "markdown",
   "metadata": {},
   "source": [
    "## 获取终结符"
   ]
  },
  {
   "cell_type": "code",
   "execution_count": 42,
   "metadata": {
    "collapsed": true
   },
   "outputs": [],
   "source": [
    "def getVT(Grammer):\n",
    "    VT = []\n",
    "    VN = getVN(Grammer)\n",
    "    VN.append(\"::\")\n",
    "    VN.append(\"'\")\n",
    "    VN.append(\"|\")\n",
    "    for g in Grammer:\n",
    "        for s in VN:\n",
    "            g = g.replace(s, \"\")\n",
    "        for ch in g:\n",
    "            if ch not in VT:\n",
    "                VT.append(ch)\n",
    "    \n",
    "    return VT"
   ]
  },
  {
   "cell_type": "code",
   "execution_count": 43,
   "metadata": {
    "scrolled": true
   },
   "outputs": [
    {
     "name": "stdout",
     "output_type": "stream",
     "text": [
      "['+', 'ε', '*', '(', ')', 'i']\n"
     ]
    }
   ],
   "source": [
    "VT = getVT(Grammer_new)\n",
    "print(VT)"
   ]
  },
  {
   "cell_type": "markdown",
   "metadata": {},
   "source": [
    "### 分割表达式"
   ]
  },
  {
   "cell_type": "code",
   "execution_count": 44,
   "metadata": {
    "collapsed": true
   },
   "outputs": [],
   "source": [
    "def Split(Expression):\n",
    "    List_char = []\n",
    "    n = len(Expression)\n",
    "    k = 0\n",
    "    for i in range(n):\n",
    "        ch = Expression[i]\n",
    "        if ch == \"'\":\n",
    "            List_char[k-1] += ch\n",
    "        else:\n",
    "            List_char.append(ch)\n",
    "            k += 1\n",
    "    return List_char"
   ]
  },
  {
   "cell_type": "markdown",
   "metadata": {},
   "source": [
    "### 获取子表达式"
   ]
  },
  {
   "cell_type": "code",
   "execution_count": 45,
   "metadata": {
    "collapsed": true
   },
   "outputs": [],
   "source": [
    "def SubExpression(Grammer):\n",
    "    _Grammer = {}\n",
    "    for grammer in Grammer:\n",
    "        grammer_split = grammer.split('::')\n",
    "        _Grammer[grammer_split[0]] = grammer_split[1]\n",
    "        \n",
    "    subExpressions = {}\n",
    "    for vn, rightExp in _Grammer.items():\n",
    "        subExpressions[vn] = [subExp for subExp in rightExp.split('|')]\n",
    "        \n",
    "    #print(subExpressions)\n",
    "    return subExpressions"
   ]
  },
  {
   "cell_type": "code",
   "execution_count": 46,
   "metadata": {
    "scrolled": true
   },
   "outputs": [
    {
     "data": {
      "text/plain": [
       "{'E': [\"TE'\"],\n",
       " \"E'\": [\"+TE'\", 'ε'],\n",
       " 'F': ['(E)', 'i'],\n",
       " 'T': [\"FT'\"],\n",
       " \"T'\": [\"*FT'\", 'ε']}"
      ]
     },
     "execution_count": 46,
     "metadata": {},
     "output_type": "execute_result"
    }
   ],
   "source": [
    "SubExpression(Grammer_new)"
   ]
  },
  {
   "cell_type": "markdown",
   "metadata": {},
   "source": [
    "### 获取文法子规则"
   ]
  },
  {
   "cell_type": "code",
   "execution_count": 47,
   "metadata": {
    "collapsed": true
   },
   "outputs": [],
   "source": [
    "def SubRules(Grammer):\n",
    "    subRules = []\n",
    "    for g in Grammer_new:\n",
    "        leftExp = g.split('::')[0]\n",
    "        rightExps = g.split('::')[1]\n",
    "        subRules += [leftExp + \"::\" + rightExp for rightExp in rightExps.split('|')]\n",
    "    return subRules"
   ]
  },
  {
   "cell_type": "code",
   "execution_count": 48,
   "metadata": {},
   "outputs": [
    {
     "data": {
      "text/plain": [
       "[\"E::TE'\",\n",
       " \"E'::+TE'\",\n",
       " \"E'::ε\",\n",
       " \"T::FT'\",\n",
       " \"T'::*FT'\",\n",
       " \"T'::ε\",\n",
       " 'F::(E)',\n",
       " 'F::i']"
      ]
     },
     "execution_count": 48,
     "metadata": {},
     "output_type": "execute_result"
    }
   ],
   "source": [
    "SubRules(Grammer_new)"
   ]
  },
  {
   "cell_type": "markdown",
   "metadata": {},
   "source": [
    "## 计算FIRST集"
   ]
  },
  {
   "cell_type": "code",
   "execution_count": 49,
   "metadata": {
    "collapsed": true
   },
   "outputs": [],
   "source": [
    "def getFIRST(Grammer_new):\n",
    "    First = SubExpression(Grammer_new)\n",
    "    \n",
    "    FIRST = {}\n",
    "    for vn in VN:\n",
    "        FIRST[vn] = []\n",
    "    \n",
    "    lock = 1\n",
    "    while First and lock<100:\n",
    "        for vn in VN:\n",
    "            # if First.has_key(vn):\n",
    "            if vn in First.keys():\n",
    "                first = First[vn]\n",
    "                for chs in first:\n",
    "                    ch = chs[0]\n",
    "                    if ch in VT:  # 子规则第一个符号是终结符\n",
    "                        FIRST[vn].append(ch)\n",
    "                        First[vn].remove(chs)\n",
    "                    else:\n",
    "                        if ch not in First:  # ch是非终结符\n",
    "                            FIRST[vn] += FIRST[ch]                            \n",
    "                            First[vn].remove(chs)\n",
    "                            if 'ε' in FIRST[ch]:  # 终结符中有'ε'，那么下一个符号的First集也需要被继续计算\n",
    "                                FIRST[vn].remove('ε')\n",
    "                                if len(chs) == 1:   # 若为最后一个符号，则加入#\n",
    "                                    First[vn].append('ε')\n",
    "                                else:    # 若不是最后一个符号，增加后续字符\n",
    "                                    First[vn].append(chs[1:])   \n",
    "                        else:\n",
    "                            pass\n",
    "                if not First[vn]:\n",
    "                    First.pop(vn)\n",
    "        lock += 1\n",
    "    \n",
    "    return FIRST"
   ]
  },
  {
   "cell_type": "code",
   "execution_count": 50,
   "metadata": {},
   "outputs": [
    {
     "data": {
      "text/plain": [
       "{'E': ['(', 'i'],\n",
       " \"E'\": ['+', 'ε'],\n",
       " 'F': ['(', 'i'],\n",
       " 'T': ['(', 'i'],\n",
       " \"T'\": ['*', 'ε']}"
      ]
     },
     "execution_count": 50,
     "metadata": {},
     "output_type": "execute_result"
    }
   ],
   "source": [
    "FIRST = getFIRST(Grammer_new)\n",
    "FIRST"
   ]
  },
  {
   "cell_type": "markdown",
   "metadata": {},
   "source": [
    "## 计算FOLLOW集"
   ]
  },
  {
   "cell_type": "code",
   "execution_count": 51,
   "metadata": {
    "collapsed": true
   },
   "outputs": [],
   "source": [
    "def getFOLLOW(Grammer):\n",
    "    Follow = SubExpression(Grammer)\n",
    "    \n",
    "    FOLLOW = {}\n",
    "    for vn in VN:\n",
    "        FOLLOW[vn] = []\n",
    "        \n",
    "    # Rule1 加入文法的开始符号的Follow集\n",
    "    FOLLOW[VN[0]].append('$')\n",
    "    \n",
    "    # Rule2\n",
    "    FIRST\n",
    "    FollowLink = {}\n",
    "    for vn in VN:\n",
    "        FollowLink[vn] = []\n",
    "    for vn, expression in Follow.items():\n",
    "        for subExp in expression:\n",
    "            subExp = Split(subExp)\n",
    "            for ch in subExp[:-1]:\n",
    "                if ch in VN:\n",
    "                    index = subExp.index(ch) + 1\n",
    "                    string = subExp[index:]\n",
    "                    FollowLink[ch].append(''.join(string))\n",
    "                    \n",
    "    # print(FollowLink)\n",
    "    \n",
    "    for vn, stringList in FollowLink.items():\n",
    "        for string in stringList:\n",
    "            string = Split(string)\n",
    "            for ch in string:\n",
    "                # print('string',string)\n",
    "                if ch in VT:\n",
    "                    FOLLOW[vn].append(ch)\n",
    "                    break\n",
    "                else:\n",
    "                    FirstSetOfChar = FIRST[ch]\n",
    "                    if 'ε' in FirstSetOfChar:\n",
    "                        FirstSetOfChar.remove('ε')\n",
    "                        FOLLOW[vn] += FirstSetOfChar\n",
    "                    else:\n",
    "                        FOLLOW[vn] += FirstSetOfChar\n",
    "                        break\n",
    "                    \n",
    "                        \n",
    "    # Rule3\n",
    "    # 先求出能推导出 '#' 的非终结符\n",
    "    NullChar = []\n",
    "    for vn, subExp in Follow.items():\n",
    "        if 'ε' in subExp:\n",
    "            NullChar.append(vn)\n",
    "    NullChar.append('')\n",
    "    \n",
    "    FollowLink2 = {}\n",
    "    for vn in VN:\n",
    "        FollowLink2[vn] = []\n",
    "        \n",
    "    for vn, subExps in Follow.items():\n",
    "        for expression in subExps:\n",
    "            expression = Split(expression)\n",
    "            index = len(expression) - 1\n",
    "            while index >= 0:\n",
    "                ch = expression[index]\n",
    "                if ch == vn:\n",
    "                    break\n",
    "                elif ch in VT:\n",
    "                    break\n",
    "                elif ch not in NullChar:\n",
    "                    FollowLink2[ch].append(vn)\n",
    "                    break\n",
    "                else:\n",
    "                    FollowLink2[ch].append(vn)\n",
    "                    index -= 1\n",
    "    # print('FollowLink2', FollowLink2)\n",
    "    hasFollowChar = []\n",
    "    notFollowChar = []\n",
    "    for vn, links in FollowLink2.items():\n",
    "        if not links:\n",
    "            hasFollowChar.append(vn)\n",
    "        else:\n",
    "            notFollowChar.append(vn)\n",
    "    # print('hasFollowChar', hasFollowChar)\n",
    "    # print('notFollowChar', notFollowChar)\n",
    "    \n",
    "    lock = 1\n",
    "    while notFollowChar and lock < 100:\n",
    "        delChar = []\n",
    "        for vn in notFollowChar:\n",
    "            ### if set(FollowLink2[vn]).issubset(set(hasFollowChar)):\n",
    "            for link in FollowLink2[vn]:\n",
    "                FOLLOW[vn] += FOLLOW[link]\n",
    "            delChar.append(vn)\n",
    "        # print('delChar', delChar)\n",
    "        # print('hasFollowChar', hasFollowChar)\n",
    "        # print('notFollowChar', notFollowChar)\n",
    "        for ch in delChar:\n",
    "            hasFollowChar.append(ch)\n",
    "            notFollowChar.remove(ch)\n",
    "        lock += 1\n",
    "\n",
    "    for vn in VN:\n",
    "        FOLLOW[vn] = list(set(FOLLOW[vn]))\n",
    "    \n",
    "    return FOLLOW"
   ]
  },
  {
   "cell_type": "code",
   "execution_count": 52,
   "metadata": {
    "scrolled": true
   },
   "outputs": [
    {
     "data": {
      "text/plain": [
       "{'E': [')', '$'],\n",
       " \"E'\": [')', '$'],\n",
       " 'F': [')', '$', '+', '*'],\n",
       " 'T': [')', '$', '+'],\n",
       " \"T'\": [')', '$', '+']}"
      ]
     },
     "execution_count": 52,
     "metadata": {},
     "output_type": "execute_result"
    }
   ],
   "source": [
    "FOLLOW = getFOLLOW(Grammer_new)\n",
    "FOLLOW"
   ]
  },
  {
   "cell_type": "markdown",
   "metadata": {},
   "source": [
    "### 计算SELECT集"
   ]
  },
  {
   "cell_type": "code",
   "execution_count": 53,
   "metadata": {
    "collapsed": true
   },
   "outputs": [],
   "source": [
    "def getSELECT(Grammer):\n",
    "    subRules = SubRules(Grammer)\n",
    "\n",
    "    SELECT = {}\n",
    "    for rule in subRules:\n",
    "        leftExp, rightExp = rule.split('::')\n",
    "        #print(leftExp, rightExp)\n",
    "        if '#' not in rightExp:\n",
    "            if rightExp[0] in VT:\n",
    "                SELECT[rule] = rightExp[0]\n",
    "            elif rightExp[0] in VN:\n",
    "                SELECT[rule] = FIRST[rightExp[0]]\n",
    "        else:\n",
    "            SELECT[rule] = FOLLOW[leftExp]\n",
    "    \n",
    "    return SELECT"
   ]
  },
  {
   "cell_type": "code",
   "execution_count": 54,
   "metadata": {},
   "outputs": [
    {
     "data": {
      "text/plain": [
       "{\"E'::+TE'\": '+',\n",
       " \"E'::ε\": 'ε',\n",
       " \"E::TE'\": ['(', 'i'],\n",
       " 'F::(E)': '(',\n",
       " 'F::i': 'i',\n",
       " \"T'::*FT'\": '*',\n",
       " \"T'::ε\": 'ε',\n",
       " \"T::FT'\": ['(', 'i']}"
      ]
     },
     "execution_count": 54,
     "metadata": {},
     "output_type": "execute_result"
    }
   ],
   "source": [
    "SELECT = getSELECT(Grammer_new)\n",
    "SELECT"
   ]
  },
  {
   "cell_type": "markdown",
   "metadata": {},
   "source": [
    "## LL(1)文法判断"
   ]
  },
  {
   "cell_type": "code",
   "execution_count": 55,
   "metadata": {
    "collapsed": true
   },
   "outputs": [],
   "source": [
    "def LL1_Judge(Grammer):\n",
    "    isLL1 = True\n",
    "    Select = SubExpression(Grammer)\n",
    "\n",
    "    for vn, subExps in Select.items():\n",
    "        sub_num = len(subExps)\n",
    "        if sub_num > 1:\n",
    "            for i in range(sub_num-1):\n",
    "                for j in range(i+1, sub_num):\n",
    "                    rule1 = vn + '::' + subExps[i]\n",
    "                    rule2 = vn + '::' + subExps[j]\n",
    "                    select1, select2 = SELECT[rule1], SELECT[rule2]\n",
    "                    intersection = list(set(select1).intersection(set(select2)))\n",
    "                    if intersection != []:    # 交集不为空\n",
    "                        isLL1 = False\n",
    "                        break\n",
    "\n",
    "    if isLL1 == True:\n",
    "        print('是LL(1)文法')\n",
    "    else:\n",
    "        print('不是LL(1)文法')"
   ]
  },
  {
   "cell_type": "code",
   "execution_count": 56,
   "metadata": {},
   "outputs": [
    {
     "name": "stdout",
     "output_type": "stream",
     "text": [
      "是LL(1)文法\n"
     ]
    }
   ],
   "source": [
    "LL1_Judge(Grammer_new)"
   ]
  },
  {
   "cell_type": "markdown",
   "metadata": {},
   "source": [
    "### 表达式分析"
   ]
  },
  {
   "cell_type": "code",
   "execution_count": 57,
   "metadata": {
    "collapsed": true
   },
   "outputs": [],
   "source": [
    "def ExpressionAnalyze(expression, FITST, FOLLOW):\n",
    "    VT\n",
    "    VN\n",
    "    leftExp, rightExp = expression.split('::')\n",
    "    meetChars = []\n",
    "    for ch in rightExp:\n",
    "        if ch == 'ε':\n",
    "            meetChars += FOLLOW[leftExp]\n",
    "            break\n",
    "        elif ch in VT:\n",
    "            meetChars.append(ch)\n",
    "            break\n",
    "        else:\n",
    "            meetChars += FIRST[ch]\n",
    "            if 'ε' not in FIRST[ch]:\n",
    "                break\n",
    "            else:\n",
    "                meetChars.remove('ε')\n",
    "    \n",
    "    return leftExp, meetChars"
   ]
  },
  {
   "cell_type": "markdown",
   "metadata": {},
   "source": [
    "## 预测分析表"
   ]
  },
  {
   "cell_type": "code",
   "execution_count": 58,
   "metadata": {
    "collapsed": true
   },
   "outputs": [],
   "source": [
    "def AnalyzeTable(Grammer, FIRST, FOLLOW):\n",
    "    VT.remove('ε')\n",
    "    VT.append('$')\n",
    "    Table = {}\n",
    "    \n",
    "    for vn in VN:\n",
    "        Table[vn] = {}\n",
    "        for vt in VT:\n",
    "            Table[vn][vt] = 'ERROR'\n",
    "    \n",
    "    subRules = []\n",
    "    for g in Grammer:\n",
    "        leftExp = g.split('::')[0]\n",
    "        rightExps = g.split('::')[1]\n",
    "        subRules += [leftExp + \"::\" + rightExp for rightExp in rightExps.split('|')]\n",
    "    \n",
    "    for rule in subRules:\n",
    "        leftExp, meetChars = ExpressionAnalyze(rule, FIRST, FOLLOW)\n",
    "        for ch in meetChars:\n",
    "            Table[leftExp][ch] = rule\n",
    "        \n",
    "    return Table"
   ]
  },
  {
   "cell_type": "code",
   "execution_count": 59,
   "metadata": {
    "scrolled": true
   },
   "outputs": [
    {
     "data": {
      "text/plain": [
       "{'E': {'$': 'ERROR',\n",
       "  '(': \"E::TE'\",\n",
       "  ')': 'ERROR',\n",
       "  '*': 'ERROR',\n",
       "  '+': 'ERROR',\n",
       "  'i': \"E::TE'\"},\n",
       " \"E'\": {'$': \"E'::ε\",\n",
       "  '(': 'ERROR',\n",
       "  ')': \"E'::ε\",\n",
       "  '*': 'ERROR',\n",
       "  '+': \"E'::+TE'\",\n",
       "  'i': 'ERROR'},\n",
       " 'F': {'$': 'ERROR',\n",
       "  '(': 'F::(E)',\n",
       "  ')': 'ERROR',\n",
       "  '*': 'ERROR',\n",
       "  '+': 'ERROR',\n",
       "  'i': 'F::i'},\n",
       " 'T': {'$': 'ERROR',\n",
       "  '(': \"T::FT'\",\n",
       "  ')': 'ERROR',\n",
       "  '*': 'ERROR',\n",
       "  '+': 'ERROR',\n",
       "  'i': \"T::FT'\"},\n",
       " \"T'\": {'$': \"T'::ε\",\n",
       "  '(': 'ERROR',\n",
       "  ')': \"T'::ε\",\n",
       "  '*': \"T'::*FT'\",\n",
       "  '+': \"T'::ε\",\n",
       "  'i': 'ERROR'}}"
      ]
     },
     "execution_count": 59,
     "metadata": {},
     "output_type": "execute_result"
    }
   ],
   "source": [
    "AT = AnalyzeTable(Grammer_new, FIRST, FOLLOW)\n",
    "AT"
   ]
  },
  {
   "cell_type": "markdown",
   "metadata": {},
   "source": [
    "### 打印分析表"
   ]
  },
  {
   "cell_type": "code",
   "execution_count": 60,
   "metadata": {
    "collapsed": true
   },
   "outputs": [],
   "source": [
    "def PrintAnalyzeTable(Table):\n",
    "    print('\\t\\t', end='');\n",
    "    for vt in VT:\n",
    "        if vt=='ε':\n",
    "            print('$', end='\\t\\t')\n",
    "        else:\n",
    "            print(vt, end='\\t\\t')\n",
    "    print()\n",
    "\n",
    "    for vn in VN:\n",
    "        print(vn, end='\\t\\t')\n",
    "\n",
    "        for vt in VT:\n",
    "            if(Table[vn][vt] == 'ERROR'):\n",
    "                print('\\t', end='\\t')\n",
    "            else:\n",
    "                if(len(Table[vn][vt]) < 8):\n",
    "                    print(Table[vn][vt], end='\\t\\t')\n",
    "                else:\n",
    "                    print(Table[vn][vt], end='\\t')\n",
    "        print()\n",
    "    print()"
   ]
  },
  {
   "cell_type": "code",
   "execution_count": 61,
   "metadata": {},
   "outputs": [
    {
     "name": "stdout",
     "output_type": "stream",
     "text": [
      "\t\t+\t\t*\t\t(\t\t)\t\ti\t\t$\t\t\n",
      "E\t\t\t\t\t\tE::TE'\t\t\t\tE::TE'\t\t\t\t\n",
      "E'\t\tE'::+TE'\t\t\t\t\tE'::ε\t\t\t\tE'::ε\t\t\n",
      "T\t\t\t\t\t\tT::FT'\t\t\t\tT::FT'\t\t\t\t\n",
      "T'\t\tT'::ε\t\tT'::*FT'\t\t\tT'::ε\t\t\t\tT'::ε\t\t\n",
      "F\t\t\t\t\t\tF::(E)\t\t\t\tF::i\t\t\t\t\n",
      "\n"
     ]
    }
   ],
   "source": [
    "PrintAnalyzeTable(AT)"
   ]
  },
  {
   "cell_type": "markdown",
   "metadata": {},
   "source": [
    "## 字符串分析判断"
   ]
  },
  {
   "cell_type": "code",
   "execution_count": 62,
   "metadata": {
    "collapsed": true
   },
   "outputs": [],
   "source": [
    "def AnalyzeJudge(start, String):\n",
    "    isMatch = False\n",
    "    Stack = ['$', start]\n",
    "    Input = list(String) + ['$']\n",
    "    print('判断字符串', String)\n",
    "    print('%-28s%-14s%s' %('栈', '输入串', '输出产生式'))\n",
    "    \n",
    "    try:\n",
    "        while Stack:\n",
    "            x = Stack[-1]\n",
    "            y = Input[0]\n",
    "            print(\"%-18s%18s%10s\" % (\"\".join(Stack), \"\".join(Input), \"\"), end='')\n",
    "            if x == y:  # 相同则同时弹出\n",
    "                if x != '$':\n",
    "                    Stack.pop()\n",
    "                    Input.pop(0)\n",
    "                else:  # 到达栈底\n",
    "                    Stack.pop()\n",
    "                    isMatch = True\n",
    "                print()\n",
    "            elif x in VN:\n",
    "                Stack.pop()\n",
    "                '''\n",
    "                if y=='$':\n",
    "                    y = 'ε'\n",
    "                '''\n",
    "                expression = PredictAnalyzeTable[x][y]\n",
    "                if expression == \"ERROR\":\n",
    "                    print('ERROR')\n",
    "                    raise ValueError\n",
    "                print(expression)\n",
    "                t = expression.find('::')+2\n",
    "                if Split(expression[t:])[::-1] != ['ε']:\n",
    "                    Stack += Split(expression[t:])[::-1]  # 逆序加入栈\n",
    "            elif x == '$':  # 若栈先空，则出错\n",
    "                print('ERROR')\n",
    "                break\n",
    "    except Exception as e:\n",
    "        print('ERROR')\n",
    "        pass\n",
    "\n",
    "    if isMatch:\n",
    "        print('输入串%s符合文法\\n' % String)\n",
    "    else:\n",
    "        print('输入串%s不符合文法\\n' % String)\n",
    "    \n",
    "    return isMatch"
   ]
  },
  {
   "cell_type": "code",
   "execution_count": null,
   "metadata": {
    "collapsed": true
   },
   "outputs": [],
   "source": []
  }
 ],
 "metadata": {
  "kernelspec": {
   "display_name": "Python 3",
   "language": "python",
   "name": "python3"
  },
  "language_info": {
   "codemirror_mode": {
    "name": "ipython",
    "version": 3
   },
   "file_extension": ".py",
   "mimetype": "text/x-python",
   "name": "python",
   "nbconvert_exporter": "python",
   "pygments_lexer": "ipython3",
   "version": "3.6.3"
  }
 },
 "nbformat": 4,
 "nbformat_minor": 2
}

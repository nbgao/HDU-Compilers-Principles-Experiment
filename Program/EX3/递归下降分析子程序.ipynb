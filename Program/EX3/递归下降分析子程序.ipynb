{
 "cells": [
  {
   "cell_type": "code",
   "execution_count": 15,
   "metadata": {
    "scrolled": false
   },
   "outputs": [
    {
     "name": "stdout",
     "output_type": "stream",
     "text": [
      "请输入字符串: i+i\n",
      "i+i$\n",
      "\n",
      "E->TE'\n",
      "T->FT'\n",
      "F->i\n",
      "T->ε\n",
      "E'->+TE'\n",
      "T->FT'\n",
      "F->i\n",
      "T->ε\n",
      "E'->ε\n",
      "\n",
      "输入串为合法表达式!\n",
      "\n",
      "\n",
      "请输入字符串: i+i*i\n",
      "i+i*i$\n",
      "\n",
      "E->TE'\n",
      "T->FT'\n",
      "F->i\n",
      "T->ε\n",
      "E'->+TE'\n",
      "T->FT'\n",
      "F->i\n",
      "T'->*FT'\n",
      "F->i\n",
      "T->ε\n",
      "E'->ε\n",
      "\n",
      "输入串为合法表达式!\n",
      "\n",
      "\n",
      "请输入字符串: (i+i)*i+i\n",
      "(i+i)*i+i$\n",
      "\n",
      "E->TE'\n",
      "T->FT'\n",
      "E->TE'\n",
      "T->FT'\n",
      "F->i\n",
      "T->ε\n",
      "E'->+TE'\n",
      "T->FT'\n",
      "F->i\n",
      "T->ε\n",
      "E'->ε\n",
      "F->(E)\n",
      "T'->*FT'\n",
      "F->i\n",
      "T->ε\n",
      "E'->+TE'\n",
      "T->FT'\n",
      "F->i\n",
      "T->ε\n",
      "E'->ε\n",
      "\n",
      "输入串为合法表达式!\n",
      "\n",
      "\n",
      "请输入字符串: i-i\n",
      "i-i$\n",
      "\n",
      "E->TE'\n",
      "T->FT'\n",
      "F->i\n",
      "T->ε\n",
      "E'->ε\n",
      "\n",
      "输入串为非法表达式!\n",
      "\n",
      "\n",
      "请输入字符串: (i+i)*k\n",
      "(i+i)*k$\n",
      "\n",
      "E->TE'\n",
      "T->FT'\n",
      "E->TE'\n",
      "T->FT'\n",
      "F->i\n",
      "T->ε\n",
      "E'->+TE'\n",
      "T->FT'\n",
      "F->i\n",
      "T->ε\n",
      "E'->ε\n",
      "F->(E)\n",
      "T'->*FT'\n",
      "\n",
      "输入串为非法表达式!\n",
      "\n",
      "\n"
     ]
    },
    {
     "ename": "SystemExit",
     "evalue": "",
     "output_type": "error",
     "traceback": [
      "An exception has occurred, use %tb to see the full traceback.\n",
      "\u001b[1;31mSystemExit\u001b[0m\n"
     ]
    },
    {
     "name": "stderr",
     "output_type": "stream",
     "text": [
      "D:\\Program Soft\\Anaconda\\Anaconda3\\lib\\site-packages\\IPython\\core\\interactiveshell.py:2918: UserWarning: To exit: use 'exit', 'quit', or Ctrl-D.\n",
      "  warn(\"To exit: use 'exit', 'quit', or Ctrl-D.\", stacklevel=1)\n"
     ]
    }
   ],
   "source": [
    "import sys\n",
    "if __name__ == \"__main__\":\n",
    "    while True:\n",
    "        String = input('请输入字符串: ')\n",
    "        length = len(String)\n",
    "        String += '$'\n",
    "        print('%s\\n' % String)\n",
    "\n",
    "        index = 0\n",
    "        E()\n",
    "        if String[index] == '$':\n",
    "            print('\\n输入串为合法表达式!\\n\\n')\n",
    "        else:\n",
    "            print('\\n输入串为非法表达式!\\n\\n')\n",
    "\n",
    "        String = \"\"\n",
    "        index = 0"
   ]
  },
  {
   "cell_type": "code",
   "execution_count": 7,
   "metadata": {
    "collapsed": true
   },
   "outputs": [],
   "source": [
    "def E():\n",
    "    print(\"E->TE'\")\n",
    "    T()\n",
    "    E_()"
   ]
  },
  {
   "cell_type": "code",
   "execution_count": 8,
   "metadata": {
    "collapsed": true
   },
   "outputs": [],
   "source": [
    "def E_():\n",
    "    global index\n",
    "    if String[index] == '+':\n",
    "        print(\"E'->+TE'\")\n",
    "        index += 1\n",
    "        T()\n",
    "        E_()\n",
    "    else:\n",
    "        print(\"E'->ε\")"
   ]
  },
  {
   "cell_type": "code",
   "execution_count": 9,
   "metadata": {
    "collapsed": true
   },
   "outputs": [],
   "source": [
    "def T():\n",
    "    print(\"T->FT'\")\n",
    "    F()\n",
    "    T_()"
   ]
  },
  {
   "cell_type": "code",
   "execution_count": 10,
   "metadata": {
    "collapsed": true
   },
   "outputs": [],
   "source": [
    "def T_():\n",
    "    global index\n",
    "    if String[index] == '*':\n",
    "        print(\"T'->*FT'\")\n",
    "        index += 1\n",
    "        F()\n",
    "        T_()\n",
    "    else:\n",
    "        print(\"T->ε\")"
   ]
  },
  {
   "cell_type": "code",
   "execution_count": 11,
   "metadata": {
    "collapsed": true
   },
   "outputs": [],
   "source": [
    "def F():\n",
    "    global index\n",
    "    if String[index] == '(':\n",
    "        index += 1\n",
    "        E()\n",
    "        if String[index] == ')':\n",
    "            print(\"F->(E)\")\n",
    "            index += 1\n",
    "        else:\n",
    "            print(\"\\n输入串为非法表达式!\\n\\n\")\n",
    "            sys.exit()\n",
    "    elif String[index] == 'i':\n",
    "        print(\"F->i\")\n",
    "        index += 1\n",
    "    else:\n",
    "        print('\\n输入串为非法表达式!\\n\\n')\n",
    "        sys.exit()"
   ]
  },
  {
   "cell_type": "code",
   "execution_count": null,
   "metadata": {
    "collapsed": true
   },
   "outputs": [],
   "source": []
  }
 ],
 "metadata": {
  "kernelspec": {
   "display_name": "Python 3",
   "language": "python",
   "name": "python3"
  },
  "language_info": {
   "codemirror_mode": {
    "name": "ipython",
    "version": 3
   },
   "file_extension": ".py",
   "mimetype": "text/x-python",
   "name": "python",
   "nbconvert_exporter": "python",
   "pygments_lexer": "ipython3",
   "version": "3.6.3"
  }
 },
 "nbformat": 4,
 "nbformat_minor": 2
}

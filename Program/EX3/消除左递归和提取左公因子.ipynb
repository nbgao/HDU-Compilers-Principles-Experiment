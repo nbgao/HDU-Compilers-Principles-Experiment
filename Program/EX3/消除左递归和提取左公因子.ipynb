{
 "cells": [
  {
   "cell_type": "code",
   "execution_count": 28,
   "metadata": {},
   "outputs": [
    {
     "name": "stdout",
     "output_type": "stream",
     "text": [
      "请输入选择的文法规则序号: 2\n",
      "\n",
      "文法规则\n",
      "['E::ET+|ET-|T', 'T::TF*|TF/|F', 'F::(E)|i']\n",
      "\n",
      "消除左递归后文法\n",
      "[\"E::TE'\", \"E'::T+E'|T-E'|#\", \"T::FT'\", \"T'::F*T'|F/T'|#\", 'F::(E)|i']\n",
      "\n",
      "提取左公因子后文法\n",
      "[\"E::TE'\", \"E'::TE''|#\", \"E''::+E'|-E'\", \"T::FT'\", \"T'::FT''|#\", \"T''::*T'|/T'\", 'F::(E)|i']\n"
     ]
    }
   ],
   "source": [
    "Grammers = [[] for i in range(5)]\n",
    "Grammers[0] = ['E::E+T|T', 'T::T*F|F', 'F::(E)|i']    # 需要消除左递归\n",
    "Grammers[1] = ['A::aABe|a', 'B::Bb|d']    # 需要消除左递归和提取左公因子\n",
    "Grammers[2] = ['E::ET+|ET-|T', 'T::TF*|TF/|F', 'F::(E)|i']    # 需要消除左递归和提取左公因子\n",
    "Grammers[3] = ['E::T+|T-|(E)|+E|-E|i', 'T::ia|ib|ic|a|b|#']    # 需要提取左公因子\n",
    "Grammers[4] = ['S::a|#|(T)', 'T::T,S|S']    # 需要消除左递归\n",
    "\n",
    "\n",
    "grammer_num = int(input('请输入选择的文法规则序号: '))\n",
    "\n",
    "Grammer = Grammers[grammer_num]\n",
    "print('\\n文法规则')\n",
    "print(Grammer)\n",
    "\n",
    "Grammer_1 = EliminateLeftRecursion(Grammer)\n",
    "print('\\n消除左递归后文法')\n",
    "print(Grammer_1)\n",
    "\n",
    "Grammer_2 = ExtractLeftCommonFactor(Grammer_1)\n",
    "print('\\n提取左公因子后文法')\n",
    "print(Grammer_2)"
   ]
  },
  {
   "cell_type": "markdown",
   "metadata": {},
   "source": [
    "## 消除左递归"
   ]
  },
  {
   "cell_type": "code",
   "execution_count": 18,
   "metadata": {
    "collapsed": true
   },
   "outputs": [],
   "source": [
    "def EliminateLeftRecursion(Grammer):\n",
    "    Grammer_new = []\n",
    "    for rule in Grammer:\n",
    "        t = rule.find('::')\n",
    "        rightIndex = t+2\n",
    "        leftSymbol = rule[:t]\n",
    "        rightSymbol = rule[rightIndex:]\n",
    "\n",
    "        rightFirstSymbol = rule[rightIndex]\n",
    "        #print(leftSymbol, rightSymbol)\n",
    "        if leftSymbol == rightFirstSymbol:  # 左表达式与右表达式第一个字符相同\n",
    "                result1 = [symbol for symbol in rule[rightIndex:].split('|') if leftSymbol not in symbol]\n",
    "                result2 = [symbol for symbol in rule[rightIndex:].split('|') if leftSymbol in symbol]\n",
    "                \n",
    "                leftSymbolNew = leftSymbol + \"'\"\n",
    "                result1 = [symbol + leftSymbolNew for symbol in result1]\n",
    "                rightExpression1 = '|'.join(result1)\n",
    "                expression1 = rule[0:rightIndex] + rightExpression1\n",
    "\n",
    "                result2 = [symbol.replace(leftSymbol, \"\") + leftSymbolNew for symbol in result2]           \n",
    "                result2.append('#')\n",
    "                rightExpression2 = '|'.join(result2)\n",
    "                expression2 = leftSymbolNew + rule[1:rightIndex] + rightExpression2\n",
    "\n",
    "\n",
    "                Grammer_new += [expression1]\n",
    "                Grammer_new += [expression2]\n",
    "        else:\n",
    "            Grammer_new += [rule]\n",
    "    \n",
    "    return Grammer_new"
   ]
  },
  {
   "cell_type": "code",
   "execution_count": 19,
   "metadata": {
    "scrolled": false
   },
   "outputs": [
    {
     "data": {
      "text/plain": [
       "[\"E::TE'\", \"E'::+TE'|#\", \"T::FT'\", \"T'::*FT'|#\", 'F::(E)|i']"
      ]
     },
     "execution_count": 19,
     "metadata": {},
     "output_type": "execute_result"
    }
   ],
   "source": [
    "Grammer_new1 = EliminateLeftRecursion(Grammer)\n",
    "Grammer_new1"
   ]
  },
  {
   "cell_type": "markdown",
   "metadata": {},
   "source": [
    "### 求最长公共前缀"
   ]
  },
  {
   "cell_type": "code",
   "execution_count": 20,
   "metadata": {
    "collapsed": true
   },
   "outputs": [],
   "source": [
    "def LongestCommonPrefix(s1, s2):\n",
    "    prefix = ''\n",
    "    l1, l2 = len(s1), len(s2)\n",
    "    for i in range(min(l1,l2)):\n",
    "        if s1[i]==s2[i]:\n",
    "            prefix += s1[i];\n",
    "        else:\n",
    "            break\n",
    "    return prefix"
   ]
  },
  {
   "cell_type": "markdown",
   "metadata": {},
   "source": [
    "## 提取左公因子"
   ]
  },
  {
   "cell_type": "code",
   "execution_count": 21,
   "metadata": {
    "collapsed": true
   },
   "outputs": [],
   "source": [
    "def ExtractLeftCommonFactor(Grammer):\n",
    "    Grammer_new = []\n",
    "    for rule in Grammer:\n",
    "        t = rule.find('::')\n",
    "        rightIndex = t+2\n",
    "        leftSymbol = rule[:t]\n",
    "        rightSymbol = rule[rightIndex:]\n",
    "        rightExp = [symbol for symbol in rule[rightIndex:].split('|')]\n",
    "        prefix = ''\n",
    "        for i in range(len(rightExp)-1):\n",
    "            for j in range(i+1,len(rightExp)):\n",
    "                Exp1, Exp2 = rightExp[i], rightExp[j]\n",
    "                prefix = LongestCommonPrefix(Exp1, Exp2)\n",
    "                if prefix != '':  # 最长公共前缀非空\n",
    "                    break\n",
    "            if prefix != '':\n",
    "                break\n",
    "\n",
    "        postfix = []\n",
    "        if prefix != '':\n",
    "            index = len(prefix)\n",
    "            tail = []\n",
    "            #print('rightExp', rightExp)\n",
    "            for exp in rightExp:\n",
    "                if prefix == exp[:index]:  # 表达式中存在前缀\n",
    "                    if exp[index:] == '':  # 前缀后面无字符\n",
    "                        postfix.append('#')\n",
    "                    else:\n",
    "                        postfix.append(exp[index:])\n",
    "                else:\n",
    "                    tail.append(exp)\n",
    "            #print('postfix', postfix)\n",
    "            #print('tail', tail)\n",
    "            # 产生提取左公因子的第1条新语法规则\n",
    "            leftSymbolNew = leftSymbol + \"'\"\n",
    "            rightExp_new1 = prefix + leftSymbolNew\n",
    "            if tail != []:  # 若尾部表达式不为空，则在新表达式后加上尾部表达式\n",
    "                rightExp_new2 = ('|').join(tail)\n",
    "                rightExp_new2 = '|' + rightExp_new2\n",
    "            else:\n",
    "                rightExp_new2 = ''\n",
    "            expression1 = leftSymbol +'::'+ rightExp_new1 + rightExp_new2\n",
    "            Grammer_new += [expression1]\n",
    "            #print('expression1', expression1)\n",
    "\n",
    "            # 产生提取左公因子的第2条新语法规则\n",
    "            postfix_new = [leftSymbolNew + symbol for symbol in postfix]\n",
    "            rightExp_new = '|'.join(postfix)\n",
    "            rightExp_new\n",
    "            expression2 = leftSymbolNew + '::' + rightExp_new\n",
    "            Grammer_new += [expression2]\n",
    "            #print('expression2', expression2)\n",
    "        else:\n",
    "            Grammer_new += [rule]\n",
    "    return Grammer_new"
   ]
  },
  {
   "cell_type": "code",
   "execution_count": 22,
   "metadata": {},
   "outputs": [
    {
     "data": {
      "text/plain": [
       "[\"E::TE'\", \"E'::+TE'|#\", \"T::FT'\", \"T'::*FT'|#\", 'F::(E)|i']"
      ]
     },
     "execution_count": 22,
     "metadata": {},
     "output_type": "execute_result"
    }
   ],
   "source": [
    "Grammer_new2 = ExtractLeftCommonFactor(Grammer_new1)\n",
    "Grammer_new2"
   ]
  },
  {
   "cell_type": "code",
   "execution_count": null,
   "metadata": {
    "collapsed": true
   },
   "outputs": [],
   "source": []
  }
 ],
 "metadata": {
  "kernelspec": {
   "display_name": "Python 3",
   "language": "python",
   "name": "python3"
  },
  "language_info": {
   "codemirror_mode": {
    "name": "ipython",
    "version": 3
   },
   "file_extension": ".py",
   "mimetype": "text/x-python",
   "name": "python",
   "nbconvert_exporter": "python",
   "pygments_lexer": "ipython3",
   "version": "3.6.3"
  }
 },
 "nbformat": 4,
 "nbformat_minor": 2
}
